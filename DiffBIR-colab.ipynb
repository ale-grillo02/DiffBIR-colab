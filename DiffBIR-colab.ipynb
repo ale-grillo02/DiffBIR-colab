{
 "cells": [
  {
   "cell_type": "code",
   "execution_count": null,
   "metadata": {},
   "outputs": [],
   "source": [
    "%cd /content\n",
    "\n",
    "# clone the repo\n",
    "!git clone https://github.com/XPixelGroup/DiffBIR.git\n",
    "%cd DiffBIR\n",
    "\n",
    "# download aria2 and anaconda3\n",
    "!apt -y install -qq aria2\n",
    "!aria2c --console-log-level=error -c -x 16 -s 16 -k 1M https://repo.anaconda.com/archive/Anaconda3-2023.09-0-Linux-x86_64.sh -d /content -o Anaconda3-2023.09-0-Linux-x86_64.sh\n",
    "!bash /content/Anaconda3-2023.09-0-Linux-x86_64.sh -b\n",
    "\n",
    "# create an environment with python >= 3.9\n",
    "!conda create -n diffbir python=3.9\n",
    "!conda activate diffbir\\\n",
    "%pip install -r requirements.txt\n",
    "%pip install -q einops pytorch_lightning gradio omegaconf xformers==0.0.20 transformers lpips # opencv-python\n",
    "\n",
    "# download the checkpoints\n",
    "!aria2c --console-log-level=error -c -x 16 -s 16 -k 1M https://huggingface.co/lxq007/DiffBIR/resolve/main/general_full_v1.ckpt -d /content/weights -o general_full_v1.ckpt\n",
    "!aria2c --console-log-level=error -c -x 16 -s 16 -k 1M https://huggingface.co/lxq007/DiffBIR/resolve/main/general_swinir_v1.ckpt -d /content/weights -o general_swinir_v1.ckpt\n",
    "\n",
    "# run the gradio interface\n",
    "!python gradio_diffbir.py --ckpt weights/general_full_v1.ckpt --config configs/model/cldm.yaml --reload_swinir --swinir_ckpt weights/general_swinir_v1.ckpt --device cuda"
   ]
  }
 ],
 "metadata": {
  "language_info": {
   "name": "python"
  },
  "orig_nbformat": 4
 },
 "nbformat": 4,
 "nbformat_minor": 2
}
