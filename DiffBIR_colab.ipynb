{
  "cells": [
    {
      "cell_type": "markdown",
      "metadata": {
        "id": "view-in-github"
      },
      "source": [
        "[![Open In Colab](https://colab.research.google.com/assets/colab-badge.svg)](https://colab.research.google.com/github/camenduru/DiffBIR-colab/blob/main/DiffBIR_colab.ipynb)"
      ]
    },
    {
      "cell_type": "code",
      "execution_count": null,
      "metadata": {
        "id": "VjYy0F2gZIPR"
      },
      "outputs": [],
      "source": [
        "%cd /content\n\n"
        "# clone the repo\n"
        "!git clone https://github.com/XPixelGroup/DiffBIR.git\n"
        "%cd DiffBIR\n\n"
        "# download aria2 and anaconda3\n"
        "!apt -y install -qq aria2\n"
        "!aria2c --console-log-level=error -c -x 16 -s 16 -k 1M https://repo.anaconda.com/archive/Anaconda3-2023.09-0-Linux-x86_64.sh -d /content -o Anaconda3-2023.09-0-Linux-x86_64.sh\n"
        "!bash /content/Anaconda3-2023.09-0-Linux-x86_64.sh -b\n\n"
        "# create an environment with python >= 3.9\n"
        "!conda create -n diffbir python=3.9\n"
        "!conda activate diffbir\n"
        "!pip install -r requirements.txt\n\n"
        "# download the checkpoints\n"
        "!aria2c --console-log-level=error -c -x 16 -s 16 -k 1M https://huggingface.co/lxq007/DiffBIR/resolve/main/general_full_v1.ckpt -d /content/weights -o general_full_v1.ckpt\n"
        "!aria2c --console-log-level=error -c -x 16 -s 16 -k 1M https://huggingface.co/lxq007/DiffBIR/resolve/main/general_swinir_v1.ckpt -d /content/weights -o general_swinir_v1.ckpt\n\n"
        "# run the gradio interface\n"
        "!python gradio_diffbir.py --ckpt weights/general_full_v1.ckpt --config configs/model/cldm.yaml --reload_swinir --swinir_ckpt weights/general_swinir_v1.ckpt --device cuda"
      ]
    }
  ],
  "metadata": {
    "accelerator": "GPU",
    "colab": {
      "gpuType": "T4",
      "provenance": []
    },
    "kernelspec": {
      "display_name": "Python 3",
      "name": "python3"
    },
    "language_info": {
      "name": "python"
    }
  },
  "nbformat": 4,
  "nbformat_minor": 0
}
